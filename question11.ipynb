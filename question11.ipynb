{
 "cells": [
  {
   "cell_type": "markdown",
   "id": "ba7a6dee-f4ac-4c09-ae00-8f9919504104",
   "metadata": {},
   "source": [
    "# Wing Chi Luke \n",
    "Notebook for assignment 7"
   ]
  },
  {
   "cell_type": "code",
   "execution_count": 2,
   "id": "b04f12ef-8817-4a25-a4af-69c7155a8d4b",
   "metadata": {
    "tags": []
   },
   "outputs": [
    {
     "data": {
      "text/plain": [
       "5.0"
      ]
     },
     "execution_count": 2,
     "metadata": {},
     "output_type": "execute_result"
    }
   ],
   "source": [
    "def compute_mean(list):\n",
    "    return sum(list)/len(list)\n",
    "    \n",
    "    \n",
    "compute_mean([2, 4, 6, 8])"
   ]
  },
  {
   "cell_type": "markdown",
   "id": "82ece92a-3908-443f-97e6-f043fc1f39a3",
   "metadata": {},
   "source": [
    "My code takes the list, adds up all of the numbers in the list and then divides it by the amount of numbers in the list.\n",
    "\n",
    "$$\n",
    "\\overline{x} = \\frac{x_1+x_2+...+x_n}{n} = \\frac{1}{n}\\Bigg(\\sum_{i=1}^{n}x_i\\Bigg)\n",
    "$$\n"
   ]
  },
  {
   "cell_type": "code",
   "execution_count": null,
   "id": "739e2e70-6b1a-48a0-b492-e16ab7de6dc0",
   "metadata": {},
   "outputs": [],
   "source": []
  }
 ],
 "metadata": {
  "kernelspec": {
   "display_name": "Python 3 (ipykernel)",
   "language": "python",
   "name": "python3"
  },
  "language_info": {
   "codemirror_mode": {
    "name": "ipython",
    "version": 3
   },
   "file_extension": ".py",
   "mimetype": "text/x-python",
   "name": "python",
   "nbconvert_exporter": "python",
   "pygments_lexer": "ipython3",
   "version": "3.11.6"
  }
 },
 "nbformat": 4,
 "nbformat_minor": 5
}
